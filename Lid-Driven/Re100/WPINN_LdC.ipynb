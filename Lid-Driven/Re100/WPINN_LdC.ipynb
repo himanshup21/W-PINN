{
 "cells": [
  {
   "cell_type": "code",
   "execution_count": 1,
   "metadata": {
    "ExecuteTime": {
     "end_time": "2024-07-24T05:17:06.059075Z",
     "start_time": "2024-07-24T05:17:04.392186Z"
    },
    "execution": {
     "iopub.execute_input": "2025-02-14T19:11:17.396225Z",
     "iopub.status.busy": "2025-02-14T19:11:17.395869Z",
     "iopub.status.idle": "2025-02-14T19:11:19.197295Z",
     "shell.execute_reply": "2025-02-14T19:11:19.196114Z",
     "shell.execute_reply.started": "2025-02-14T19:11:17.396205Z"
    }
   },
   "outputs": [
    {
     "name": "stderr",
     "output_type": "stream",
     "text": [
      "/envs/common/lib/python3.10/site-packages/torch/functional.py:539: UserWarning: torch.meshgrid: in an upcoming release, it will be required to pass the indexing argument. (Triggered internally at /pytorch/aten/src/ATen/native/TensorShape.cpp:3637.)\n",
      "  return _VF.meshgrid(tensors, **kwargs)  # type: ignore[attr-defined]\n"
     ]
    },
    {
     "name": "stdout",
     "output_type": "stream",
     "text": [
      "family_len:  24649\n"
     ]
    }
   ],
   "source": [
    "from config import*\n",
    "from Wfamily import*\n",
    "from Model import*"
   ]
  },
  {
   "cell_type": "code",
   "execution_count": null,
   "metadata": {
    "execution": {
     "iopub.execute_input": "2025-02-14T19:15:21.307029Z",
     "iopub.status.busy": "2025-02-14T19:15:21.306560Z",
     "iopub.status.idle": "2025-02-14T19:15:21.425037Z",
     "shell.execute_reply": "2025-02-14T19:15:21.424501Z",
     "shell.execute_reply.started": "2025-02-14T19:15:21.306996Z"
    }
   },
   "outputs": [
    {
     "data": {
      "text/plain": [
       "24649"
      ]
     },
     "execution_count": 2,
     "metadata": {},
     "output_type": "execute_result"
    }
   ],
   "source": [
    "model_WPINN = WPINN(input_size = len_collocation, \n",
    "                    family_size = len(family),\n",
    "                    num_hidden_layers1 = 4, \n",
    "                    num_hidden_layers2 = 6, \n",
    "                    hidden_neurons1 = 100,\n",
    "                    hidden_neurons2 = 100).to(device)\n",
    "\n",
    "optimizer1 = optim.Adam(model_WPINN.parameters(), lr=1e-5)#, weight_decay=1e-4)\n",
    "\n",
    "c, b = model_WPINN(x_collocation, y_collocation)\n",
    "len(c[0])"
   ]
  },
  {
   "cell_type": "code",
   "execution_count": 3,
   "metadata": {},
   "outputs": [],
   "source": [
    "# model_WPINN.load_state_dict(torch.load('model_parameters copy.pth'))"
   ]
  },
  {
   "cell_type": "code",
   "execution_count": 5,
   "metadata": {},
   "outputs": [],
   "source": [
    "x_interior = x_collocation.clone()\n",
    "y_interior = y_collocation.clone()\n",
    "\n",
    "def wpinn_loss(model):   \n",
    "    global c, b\n",
    "    c, b = model(x_interior, y_interior)\n",
    "\n",
    "\n",
    "    u = torch.mv(Wfamily, c[0]) + b[0]\n",
    "    u_x = torch.mv(DWx, c[0])\n",
    "    u_y = torch.mv(DWy, c[0])\n",
    "    u_xx = torch.mv(DW2x, c[0])\n",
    "    u_yy = torch.mv(DW2y, c[0])\n",
    "\n",
    "    v = torch.mv(Wfamily, c[1]) + b[1]\n",
    "    v_x = torch.mv(DWx, c[1])\n",
    "    v_y = torch.mv(DWy, c[1])\n",
    "    v_xx = torch.mv(DW2x, c[1])\n",
    "    v_yy = torch.mv(DW2y, c[1])\n",
    "\n",
    "    p_x = torch.mv(DWx, c[2])\n",
    "    p_y = torch.mv(DWy, c[2])\n",
    "\n",
    "    u_pred_bc_x_left = torch.mv(Wbc_x_left, c[0]) + b[0]\n",
    "    u_pred_bc_x_right = torch.mv(Wbc_x_right, c[0]) + b[0]\n",
    "    u_pred_bc_y_lower = torch.mv(Wbc_y_lower, c[0]) + b[0]\n",
    "    u_pred_bc_y_upper = torch.mv(Wbc_y_upper, c[0]) + b[0]\n",
    "\n",
    "    v_pred_bc_x_left = torch.mv(Wbc_x_left, c[1]) + b[1]\n",
    "    v_pred_bc_x_right = torch.mv(Wbc_x_right, c[1]) + b[1]\n",
    "    v_pred_bc_y_lower = torch.mv(Wbc_y_lower, c[1]) + b[1]\n",
    "    v_pred_bc_y_upper = torch.mv(Wbc_y_upper, c[1]) + b[1]\n",
    "\n",
    "    \n",
    "    pde_loss = torch.mean((u_x + v_y) ** 2) +\\\n",
    "               torch.mean((u*u_x + v*u_y + p_x - (u_xx + u_yy)/Re)**2) +\\\n",
    "               torch.mean((u*v_x + v*v_y + p_y - (v_xx + v_yy)/Re)**2)\n",
    "\n",
    "    bc_loss = torch.mean(u_pred_bc_x_left** 2) + torch.mean(u_pred_bc_x_right** 2) + torch.mean(u_pred_bc_y_lower** 2) + torch.mean((u_pred_bc_y_upper - 1)** 2) +\\\n",
    "              torch.mean(v_pred_bc_x_left** 2) + torch.mean(v_pred_bc_x_right** 2) + torch.mean(v_pred_bc_y_lower** 2) + torch.mean(v_pred_bc_y_upper**2)\n",
    "    \n",
    "    data_loss = (torch.mv(Wzero,c[2])+b[2])**2\n",
    "    \n",
    "    total_loss = pde_loss + bc_loss + data_loss\n",
    "    \n",
    "    return total_loss, pde_loss, bc_loss, data_loss\n",
    "\n",
    "def train_wpinn(model, optimizer, num_prints):\n",
    "    # Training loop\n",
    "    pde_losses = []\n",
    "    bc_losses = []\n",
    "    for epoch in tqdm(range(num_epochs)):\n",
    "\n",
    "        torch.cuda.empty_cache()\n",
    "        \n",
    "        optimizer.zero_grad()\n",
    "\n",
    "        total_loss, pde_loss, bc_loss, data_loss = wpinn_loss(model)\n",
    "        \n",
    "        total_loss.backward()\n",
    "        optimizer.step()\n",
    "    \n",
    "        \n",
    "        if epoch % ((num_epochs-1)/num_prints) == 0:\n",
    "\n",
    "            with torch.no_grad():\n",
    "                u_pred = torch.mv(WTest, c[0].cpu()) + b[0].cpu()\n",
    "                v_pred = torch.mv(WTest, c[1].cpu()) + b[1].cpu()\n",
    "                vel_pred = ((u_pred**2 + v_pred**2)**0.5).reshape(n_test, n_test)\n",
    "\n",
    "\n",
    "            vel_errL2 = (torch.sum(torch.abs(vel_ref-vel_pred)**2))**0.5 / (torch.sum(torch.abs(vel_ref)**2))**0.5\n",
    "            vel_errMax = torch.max(torch.abs(vel_ref-vel_pred))\n",
    "            \n",
    "            print(f'Epoch [{epoch}/{num_epochs-1}], '\n",
    "                  f'Total Loss: {total_loss.item():.6f}\\t '\n",
    "                  f'PDE Loss: {pde_loss.item():.6f}\\t '\n",
    "                  f'Data Loss: {data_loss.item():.6f}\\t '\n",
    "                  f'BC Loss: {bc_loss.item():.6f}, \\n'\n",
    "                  f'\\t\\t  vel:  RelativeL2: {vel_errL2}\\t '\n",
    "                  f'Max: {vel_errMax} \\n')\n",
    "            \n",
    "        torch.cuda.empty_cache()\n",
    "    \n",
    "    return [pde_losses, bc_losses]"
   ]
  },
  {
   "cell_type": "code",
   "execution_count": 7,
   "metadata": {
    "execution": {
     "iopub.execute_input": "2025-02-14T19:15:23.800336Z",
     "iopub.status.busy": "2025-02-14T19:15:23.799671Z",
     "iopub.status.idle": "2025-02-14T19:31:28.566493Z",
     "shell.execute_reply": "2025-02-14T19:31:28.564884Z",
     "shell.execute_reply.started": "2025-02-14T19:15:23.800282Z"
    }
   },
   "outputs": [
    {
     "name": "stderr",
     "output_type": "stream",
     "text": [
      "  0%|          | 2/10001 [00:00<27:08,  6.14it/s]"
     ]
    },
    {
     "name": "stdout",
     "output_type": "stream",
     "text": [
      "Epoch [0/10000], Total Loss: 0.620552\t PDE Loss: 0.216426\t Data Loss: 0.056886\t BC Loss: 0.347241, \n",
      "\t\t  vel:  RelativeL2: 0.5128730527969485\t Max: 0.5719159245491028 \n",
      "\n"
     ]
    },
    {
     "name": "stderr",
     "output_type": "stream",
     "text": [
      " 10%|█         | 1002/10001 [02:24<22:49,  6.57it/s]"
     ]
    },
    {
     "name": "stdout",
     "output_type": "stream",
     "text": [
      "Epoch [1000/10000], Total Loss: 0.014725\t PDE Loss: 0.001052\t Data Loss: 0.000000\t BC Loss: 0.013673, \n",
      "\t\t  vel:  RelativeL2: 0.06457895806806976\t Max: 0.43942731618881226 \n",
      "\n"
     ]
    },
    {
     "name": "stderr",
     "output_type": "stream",
     "text": [
      " 20%|██        | 2002/10001 [04:48<20:31,  6.49it/s]"
     ]
    },
    {
     "name": "stdout",
     "output_type": "stream",
     "text": [
      "Epoch [2000/10000], Total Loss: 0.010562\t PDE Loss: 0.000705\t Data Loss: 0.000000\t BC Loss: 0.009857, \n",
      "\t\t  vel:  RelativeL2: 0.03328626141460279\t Max: 0.3558256924152374 \n",
      "\n"
     ]
    },
    {
     "name": "stderr",
     "output_type": "stream",
     "text": [
      " 30%|███       | 3002/10001 [07:12<17:48,  6.55it/s]"
     ]
    },
    {
     "name": "stdout",
     "output_type": "stream",
     "text": [
      "Epoch [3000/10000], Total Loss: 0.009850\t PDE Loss: 0.001054\t Data Loss: 0.000001\t BC Loss: 0.008796, \n",
      "\t\t  vel:  RelativeL2: 0.03517530363409488\t Max: 0.326057106256485 \n",
      "\n"
     ]
    },
    {
     "name": "stderr",
     "output_type": "stream",
     "text": [
      " 40%|████      | 4002/10001 [09:36<15:40,  6.38it/s]"
     ]
    },
    {
     "name": "stdout",
     "output_type": "stream",
     "text": [
      "Epoch [4000/10000], Total Loss: 0.008570\t PDE Loss: 0.000537\t Data Loss: 0.000000\t BC Loss: 0.008033, \n",
      "\t\t  vel:  RelativeL2: 0.02664937065567521\t Max: 0.2981340289115906 \n",
      "\n"
     ]
    },
    {
     "name": "stderr",
     "output_type": "stream",
     "text": [
      " 50%|█████     | 5002/10001 [12:00<12:44,  6.54it/s]"
     ]
    },
    {
     "name": "stdout",
     "output_type": "stream",
     "text": [
      "Epoch [5000/10000], Total Loss: 0.009132\t PDE Loss: 0.001458\t Data Loss: 0.000003\t BC Loss: 0.007671, \n",
      "\t\t  vel:  RelativeL2: 0.03091567375995064\t Max: 0.29268476366996765 \n",
      "\n"
     ]
    },
    {
     "name": "stderr",
     "output_type": "stream",
     "text": [
      " 60%|██████    | 6002/10001 [14:25<10:16,  6.49it/s]"
     ]
    },
    {
     "name": "stdout",
     "output_type": "stream",
     "text": [
      "Epoch [6000/10000], Total Loss: 0.007811\t PDE Loss: 0.000529\t Data Loss: 0.000000\t BC Loss: 0.007283, \n",
      "\t\t  vel:  RelativeL2: 0.024669837683187885\t Max: 0.28056442737579346 \n",
      "\n"
     ]
    },
    {
     "name": "stderr",
     "output_type": "stream",
     "text": [
      " 70%|███████   | 7002/10001 [16:49<07:38,  6.55it/s]"
     ]
    },
    {
     "name": "stdout",
     "output_type": "stream",
     "text": [
      "Epoch [7000/10000], Total Loss: 0.008022\t PDE Loss: 0.000988\t Data Loss: 0.000009\t BC Loss: 0.007025, \n",
      "\t\t  vel:  RelativeL2: 0.023659837149372826\t Max: 0.282087504863739 \n",
      "\n"
     ]
    },
    {
     "name": "stderr",
     "output_type": "stream",
     "text": [
      " 80%|████████  | 8002/10001 [19:13<05:06,  6.52it/s]"
     ]
    },
    {
     "name": "stdout",
     "output_type": "stream",
     "text": [
      "Epoch [8000/10000], Total Loss: 0.007767\t PDE Loss: 0.000858\t Data Loss: 0.000000\t BC Loss: 0.006909, \n",
      "\t\t  vel:  RelativeL2: 0.02557471634646273\t Max: 0.2800273299217224 \n",
      "\n"
     ]
    },
    {
     "name": "stderr",
     "output_type": "stream",
     "text": [
      " 90%|█████████ | 9002/10001 [21:36<02:32,  6.54it/s]"
     ]
    },
    {
     "name": "stdout",
     "output_type": "stream",
     "text": [
      "Epoch [9000/10000], Total Loss: 0.008760\t PDE Loss: 0.001908\t Data Loss: 0.000013\t BC Loss: 0.006839, \n",
      "\t\t  vel:  RelativeL2: 0.029901686149928386\t Max: 0.2858617901802063 \n",
      "\n"
     ]
    },
    {
     "name": "stderr",
     "output_type": "stream",
     "text": [
      "100%|██████████| 10001/10001 [24:00<00:00,  6.94it/s]"
     ]
    },
    {
     "name": "stdout",
     "output_type": "stream",
     "text": [
      "Epoch [10000/10000], Total Loss: 0.007218\t PDE Loss: 0.000646\t Data Loss: 0.000000\t BC Loss: 0.006572, \n",
      "\t\t  vel:  RelativeL2: 0.023395141063364266\t Max: 0.2856466770172119 \n",
      "\n"
     ]
    },
    {
     "name": "stderr",
     "output_type": "stream",
     "text": [
      "\n"
     ]
    }
   ],
   "source": [
    "torch.cuda.empty_cache()\n",
    "\n",
    "num_epochs = 10**4+1\n",
    "l = train_wpinn(model_WPINN, optimizer1, num_prints=10)"
   ]
  },
  {
   "cell_type": "code",
   "execution_count": 13,
   "metadata": {},
   "outputs": [],
   "source": [
    "trained_c = c\n",
    "trained_b = b\n",
    "\n",
    "name = ['0_u','1_v','2_p']\n",
    "for i in range(3):\n",
    "    file_name = \"coeff_\"+name[i]+\".csv\"\n",
    "    np.savetxt(file_name, c[i].detach().cpu(), delimiter=\",\")\n",
    "\n",
    "biases_save = [bias.detach().cpu() for bias in b]\n",
    "file_name = \"biases.csv\"\n",
    "np.savetxt(file_name, biases_save, delimiter=\",\")\n",
    "\n",
    "\n",
    "file_name = \"vel_pred_100.csv\"\n",
    "np.savetxt(file_name, vel_pred, delimiter=\",\")\n",
    "\n",
    "torch.save(model_WPINN.state_dict(), 'model_parameters.pth')\n"
   ]
  },
  {
   "cell_type": "code",
   "execution_count": 12,
   "metadata": {
    "execution": {
     "iopub.status.busy": "2025-02-14T19:14:33.780145Z",
     "iopub.status.idle": "2025-02-14T19:14:33.780339Z",
     "shell.execute_reply": "2025-02-14T19:14:33.780255Z",
     "shell.execute_reply.started": "2025-02-14T19:14:33.780246Z"
    }
   },
   "outputs": [
    {
     "name": "stdout",
     "output_type": "stream",
     "text": [
      "RelativeL2: 0.021448821644494954 \t Max: 0.28246593475341797\n"
     ]
    },
    {
     "data": {
      "image/png": "[encoded data removed]",
      "text/plain": [
       "<Figure size 2000x500 with 6 Axes>"
      ]
     },
     "metadata": {},
     "output_type": "display_data"
    }
   ],
   "source": [
    "with torch.no_grad():\n",
    "    u_pred = torch.mv(WTest, c[0].cpu()) + b[0].cpu()\n",
    "    v_pred = torch.mv(WTest, c[1].cpu()) + b[1].cpu()\n",
    "    vel_pred = ((u_pred**2 + v_pred**2)**0.5).reshape(n_test, n_test).cpu()\n",
    "\n",
    "\n",
    "vel_errL2 = (torch.sum(torch.abs(vel_ref-vel_pred)**2))**0.5 / (torch.sum(torch.abs(vel_ref)**2))**0.5\n",
    "vel_errMax = torch.max(torch.abs(vel_ref-vel_pred))\n",
    "            \n",
    "print(f'RelativeL2: {vel_errL2} \\t Max: {vel_errMax}')\n",
    "\n",
    "\n",
    "fig = plt.figure(figsize=(20,5))\n",
    "\n",
    "plt.subplot(1,3,1)\n",
    "plt.imshow(vel_ref, cmap='jet')\n",
    "plt.colorbar(cmap='jet')\n",
    "plt.title('ref')\n",
    "\n",
    "plt.subplot(1,3,2)\n",
    "plt.imshow(vel_pred, cmap='jet')\n",
    "plt.colorbar(cmap='jet')\n",
    "plt.title('pred')\n",
    "\n",
    "plt.subplot(1,3,3)\n",
    "plt.imshow(abs(vel_pred-vel_ref), cmap='jet')\n",
    "plt.colorbar(cmap='jet')\n",
    "plt.title('error')\n",
    "plt.savefig('Re100.jpg')\n",
    "plt.show()\n",
    "\n",
    "torch.cuda.empty_cache()"
   ]
  },
  {
   "cell_type": "code",
   "execution_count": 15,
   "metadata": {},
   "outputs": [],
   "source": [
    "cord1_ghia = torch.linspace(0,1,500)\n",
    "cord2_ghia = torch.tensor([0.5]*len(cord1_ghia))\n",
    "\n",
    "jx = family[:, 0].cpu()\n",
    "jy = family[:, 1].cpu() \n",
    "kx = family[:, 2].cpu() \n",
    "ky = family[:, 3].cpu()\n",
    "\n",
    "Wval_u = gaussian(cord2_ghia, cord1_ghia, jx, jy, kx, ky).T\n",
    "Wval_v = gaussian(cord1_ghia, cord2_ghia, jx, jy, kx, ky).T\n",
    "\n",
    "\n",
    "u_pred_ghia = (torch.mv(Wval_u, c[0].cpu()) + b[0].cpu()).detach().numpy()\n",
    "v_pred_ghia = (torch.mv(Wval_v, c[1].cpu()) + b[1].cpu()).detach().numpy()\n",
    "\n",
    "np.savetxt(\"u_pred_ghia_100.csv\", u_pred_ghia)\n",
    "np.savetxt(\"v_pred_ghia_100.csv\", v_pred_ghia)\n"
   ]
  },
  {
   "cell_type": "code",
   "execution_count": null,
   "metadata": {},
   "outputs": [],
   "source": []
  }
 ],
 "metadata": {
  "kernelspec": {
   "display_name": "common",
   "language": "python",
   "name": "python3"
  },
  "language_info": {
   "codemirror_mode": {
    "name": "ipython",
    "version": 3
   },
   "file_extension": ".py",
   "mimetype": "text/x-python",
   "name": "python",
   "nbconvert_exporter": "python",
   "pygments_lexer": "ipython3",
   "version": "3.10.12"
  }
 },
 "nbformat": 4,
 "nbformat_minor": 4
}
