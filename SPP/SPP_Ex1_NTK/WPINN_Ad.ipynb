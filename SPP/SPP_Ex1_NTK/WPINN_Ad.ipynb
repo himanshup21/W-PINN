{
 "cells": [
  {
   "cell_type": "code",
   "execution_count": 1,
   "metadata": {
    "execution": {
     "iopub.execute_input": "2025-01-31T06:39:34.744285Z",
     "iopub.status.busy": "2025-01-31T06:39:34.743426Z",
     "iopub.status.idle": "2025-01-31T06:40:39.918592Z",
     "shell.execute_reply": "2025-01-31T06:40:39.917338Z",
     "shell.execute_reply.started": "2025-01-31T06:39:34.744232Z"
    }
   },
   "outputs": [
    {
     "name": "stderr",
     "output_type": "stream",
     "text": [
      "/envs/common/lib/python3.12/site-packages/scipy/stats/_qmc.py:993: UserWarning: The balance properties of Sobol' points require n to be a power of 2.\n",
      "  sample = self._random(n, workers=workers)\n"
     ]
    },
    {
     "name": "stdout",
     "output_type": "stream",
     "text": [
      "family_len:  3079\n"
     ]
    }
   ],
   "source": [
    "from config import*\n",
    "from SPP_AD import*\n",
    "from Wfamily import*\n",
    "from Model import*\n",
    "from NTK import*"
   ]
  },
  {
   "cell_type": "code",
   "execution_count": 2,
   "metadata": {},
   "outputs": [],
   "source": [
    "WPINN_model = WPINN(input_size = n_collocation, \n",
    "                    num_hidden_layers = 6, \n",
    "                    hidden_neurons = 100, \n",
    "                    family_size = len_family).to(device)\n",
    "\n",
    "optimizer = optim.Adam(WPINN_model.parameters(), lr=1e-5)"
   ]
  },
  {
   "cell_type": "code",
   "execution_count": 3,
   "metadata": {},
   "outputs": [],
   "source": [
    "x_interior = x_collocation.clone()\n",
    "\n",
    "def wpinn_loss():   \n",
    "\n",
    "    global c,b\n",
    "    c, b = WPINN_model(x_interior)\n",
    "\n",
    "    u  = torch.mv(Wfamily, c) + b\n",
    "    u_x = torch.mv(DWx, c)\n",
    "    u_xx = torch.mv(DW2x, c)\n",
    "\n",
    "    u_pred_bc_left = torch.mv(Wbc_left, c) + b\n",
    "    u_pred_bc_right = torch.mv(Wbc_right, c) + b\n",
    "    \n",
    "    pde_loss = torch.mean((e*u_xx + (1+e)*u_x + u) ** 2)    \n",
    "\n",
    "    bc_loss = torch.mean((u_pred_bc_left - u_bc_left) ** 2) + \\\n",
    "              torch.mean((u_pred_bc_right - u_bc_right) ** 2)\n",
    "    \n",
    "    total_loss = pde_loss + bc_loss\n",
    "    \n",
    "    return total_loss, pde_loss, bc_loss\n",
    "\n",
    "\n",
    "NTK_WPINN = []\n",
    "itr = [0, 1000, 10000, 50000]\n",
    "\n",
    "def train_wpinn(num_epochs, num_prints):\n",
    "\n",
    "    for epoch in tqdm(range(num_epochs)):\n",
    "        \n",
    "        optimizer.zero_grad()\n",
    "        total_loss, pde_loss, bc_loss = wpinn_loss()\n",
    "        \n",
    "        total_loss.backward()\n",
    "        optimizer.step()\n",
    "\n",
    "        if epoch in itr: NTK_WPINN.append(WPINN_NTK(WPINN_model))\n",
    "    \n",
    "        if epoch % ((num_epochs-1)/num_prints) == 0:  # Print every num_prints epochs\n",
    "            \n",
    "            with torch.no_grad():\n",
    "                numerical = torch.mv(Wval, c.cpu()) + b.cpu()\n",
    "                errL2 = (torch.sum(torch.abs(exact-numerical)**2))**0.5 / (torch.sum(torch.abs(exact)**2))**0.5\n",
    "                errMax = torch.max(torch.abs(exact-numerical))\n",
    "\n",
    "            print(f'Epoch [{epoch}/{num_epochs}], '\n",
    "                f'Total Loss: {total_loss.item():.6f}, '\n",
    "                f'PDE Loss: {pde_loss.item():.6f}, '\n",
    "                f'BC Loss: {bc_loss.item():.6f}\\n\\t\\t'\n",
    "                f'RelativeL2: {errL2},\\t\\t'\n",
    "                f'Max: {errMax}\\n' )\n",
    "            \n",
    "        torch.cuda.empty_cache()"
   ]
  },
  {
   "cell_type": "code",
   "execution_count": 4,
   "metadata": {},
   "outputs": [
    {
     "name": "stderr",
     "output_type": "stream",
     "text": [
      "  0%|          | 122/50001 [00:00<01:23, 597.14it/s]"
     ]
    },
    {
     "name": "stdout",
     "output_type": "stream",
     "text": [
      "Epoch [0/50001], Total Loss: 88082.703125, PDE Loss: 88081.890625, BC Loss: 0.815175\n",
      "\t\tRelativeL2: 0.7598331570625305,\t\tMax: 2.480829954147339\n",
      "\n"
     ]
    },
    {
     "name": "stderr",
     "output_type": "stream",
     "text": [
      " 20%|██        | 10138/50001 [00:07<00:33, 1196.62it/s]"
     ]
    },
    {
     "name": "stdout",
     "output_type": "stream",
     "text": [
      "Epoch [10000/50001], Total Loss: 0.452084, PDE Loss: 0.129850, BC Loss: 0.322234\n",
      "\t\tRelativeL2: 0.7299623489379883,\t\tMax: 2.0127971172332764\n",
      "\n"
     ]
    },
    {
     "name": "stderr",
     "output_type": "stream",
     "text": [
      " 40%|████      | 20236/50001 [00:15<00:23, 1283.23it/s]"
     ]
    },
    {
     "name": "stdout",
     "output_type": "stream",
     "text": [
      "Epoch [20000/50001], Total Loss: 0.244206, PDE Loss: 0.243559, BC Loss: 0.000647\n",
      "\t\tRelativeL2: 0.03291518986225128,\t\tMax: 0.09100127220153809\n",
      "\n"
     ]
    },
    {
     "name": "stderr",
     "output_type": "stream",
     "text": [
      " 60%|██████    | 30230/50001 [00:22<00:14, 1324.97it/s]"
     ]
    },
    {
     "name": "stdout",
     "output_type": "stream",
     "text": [
      "Epoch [30000/50001], Total Loss: 0.131683, PDE Loss: 0.131683, BC Loss: 0.000000\n",
      "\t\tRelativeL2: 0.0005051216576248407,\t\tMax: 0.0016064643859863281\n",
      "\n"
     ]
    },
    {
     "name": "stderr",
     "output_type": "stream",
     "text": [
      " 80%|████████  | 40212/50001 [00:30<00:07, 1286.78it/s]"
     ]
    },
    {
     "name": "stdout",
     "output_type": "stream",
     "text": [
      "Epoch [40000/50001], Total Loss: 0.020301, PDE Loss: 0.020300, BC Loss: 0.000001\n",
      "\t\tRelativeL2: 0.00128004583530128,\t\tMax: 0.003666400909423828\n",
      "\n"
     ]
    },
    {
     "name": "stderr",
     "output_type": "stream",
     "text": [
      "100%|██████████| 50001/50001 [00:37<00:00, 1336.63it/s]"
     ]
    },
    {
     "name": "stdout",
     "output_type": "stream",
     "text": [
      "Epoch [50000/50001], Total Loss: 0.038308, PDE Loss: 0.038308, BC Loss: 0.000000\n",
      "\t\tRelativeL2: 0.0006257464992813766,\t\tMax: 0.0017464160919189453\n",
      "\n"
     ]
    },
    {
     "name": "stderr",
     "output_type": "stream",
     "text": [
      "\n"
     ]
    }
   ],
   "source": [
    "num_epochs = 5*10**4+1 \n",
    "num_prints = 5\n",
    "train_wpinn(num_epochs, num_prints)"
   ]
  },
  {
   "cell_type": "code",
   "execution_count": 5,
   "metadata": {},
   "outputs": [],
   "source": [
    "# Save NTK eigen values\n",
    "file_name = \"WPINN_ntk.csv\" \n",
    "np.savetxt(file_name, NTK_WPINN, delimiter=\",\")"
   ]
  },
  {
   "cell_type": "code",
   "execution_count": 5,
   "metadata": {},
   "outputs": [
    {
     "name": "stdout",
     "output_type": "stream",
     "text": [
      "RelativeL2: 0.0006195977912284434,\t\t Max: 0.0017571449279785156\n",
      "\n"
     ]
    },
    {
     "data": {
      "image/png": "[encoded data removed]",
      "text/plain": [
       "<Figure size 500x300 with 1 Axes>"
      ]
     },
     "metadata": {},
     "output_type": "display_data"
    }
   ],
   "source": [
    "# Testing and Plotting\n",
    "u_pred = (torch.mv(Wtest, c.cpu()) + b.cpu()).detach().numpy()\n",
    "errL2 = (np.sum(np.abs(u_exact-u_pred)**2))**0.5 / (np.sum(np.abs(u_exact)**2))**0.5\n",
    "errMax = np.max(np.abs(u_exact-u_pred))\n",
    "\n",
    "print(f'RelativeL2: {errL2},\\t\\t', f'Max: {errMax}\\n' )\n",
    "\n",
    "\n",
    "fig = plt.figure(figsize=(5,3))\n",
    "plt.plot(x_test, u_exact, label='Exact')\n",
    "plt.plot(x_test, u_pred, '--', label='Predicted')\n",
    "plt.legend()\n",
    "plt.show()\n"
   ]
  },
  {
   "cell_type": "code",
   "execution_count": null,
   "metadata": {},
   "outputs": [],
   "source": []
  }
 ],
 "metadata": {
  "kernelspec": {
   "display_name": "common",
   "language": "python",
   "name": "python3"
  },
  "language_info": {
   "codemirror_mode": {
    "name": "ipython",
    "version": 3
   },
   "file_extension": ".py",
   "mimetype": "text/x-python",
   "name": "python",
   "nbconvert_exporter": "python",
   "pygments_lexer": "ipython3",
   "version": "3.12.3"
  }
 },
 "nbformat": 4,
 "nbformat_minor": 4
}
