{
 "cells": [
  {
   "cell_type": "code",
   "execution_count": 1,
   "metadata": {
    "execution": {
     "iopub.execute_input": "2025-01-31T06:39:34.744285Z",
     "iopub.status.busy": "2025-01-31T06:39:34.743426Z",
     "iopub.status.idle": "2025-01-31T06:40:39.918592Z",
     "shell.execute_reply": "2025-01-31T06:40:39.917338Z",
     "shell.execute_reply.started": "2025-01-31T06:39:34.744232Z"
    }
   },
   "outputs": [
    {
     "name": "stderr",
     "output_type": "stream",
     "text": [
      "/envs/common/lib/python3.12/site-packages/scipy/stats/_qmc.py:993: UserWarning: The balance properties of Sobol' points require n to be a power of 2.\n",
      "  sample = self._random(n, workers=workers)\n"
     ]
    },
    {
     "name": "stdout",
     "output_type": "stream",
     "text": [
      "family_len:  3079\n"
     ]
    }
   ],
   "source": [
    "from config import*\n",
    "from SPP_AD import*\n",
    "from Model import*\n",
    "from NTK import *"
   ]
  },
  {
   "cell_type": "code",
   "execution_count": 2,
   "metadata": {},
   "outputs": [],
   "source": [
    "PINN_model = PINN(input_size = n_collocation, \n",
    "                    num_hidden_layers = 6, \n",
    "                    hidden_neurons = 100).to(device)\n",
    "\n",
    "optimizer = optim.Adam(PINN_model.parameters(), lr=1e-5)"
   ]
  },
  {
   "cell_type": "code",
   "execution_count": 3,
   "metadata": {},
   "outputs": [],
   "source": [
    "x_interior = x_collocation.clone().requires_grad_(True)\n",
    "\n",
    "def pinn_loss():   \n",
    "\n",
    "    u = PINN_model(x_interior)\n",
    "    u_x = torch.autograd.grad(u, x_interior, grad_outputs=torch.ones_like(u), create_graph=True)[0]\n",
    "    u_xx = torch.autograd.grad(u_x, x_interior, grad_outputs=torch.ones_like(u_x), create_graph=True)[0]\n",
    "\n",
    "    u_pred_bc_left = PINN_model(x_bc_left)\n",
    "    u_pred_bc_right = PINN_model(x_bc_right)\n",
    "    \n",
    "    pde_loss = torch.mean((e*u_xx + (1+e)*u_x + u) ** 2)    \n",
    "\n",
    "    bc_loss = torch.mean((u_pred_bc_left - u_bc_left) ** 2) + \\\n",
    "              torch.mean((u_pred_bc_right - u_bc_right) ** 2)\n",
    "    \n",
    "    total_loss = pde_loss + bc_loss\n",
    "    \n",
    "    return total_loss, pde_loss, bc_loss\n",
    "\n",
    "\n",
    "NTK_PINN = []\n",
    "itr = [0, 1000, 10000, 50000]\n",
    "\n",
    "def train_wpinn(num_epochs, num_prints):\n",
    "\n",
    "    for epoch in tqdm(range(num_epochs)):\n",
    "        \n",
    "        optimizer.zero_grad()\n",
    "        total_loss, pde_loss, bc_loss = pinn_loss()\n",
    "        \n",
    "        total_loss.backward()\n",
    "        optimizer.step()\n",
    "\n",
    "        # if epoch in itr: NTK_PINN.append(PINN_NTK(PINN_model))\n",
    "    \n",
    "        if epoch % ((num_epochs-1)/num_prints) == 0:  # Print every num_prints epochs\n",
    "            \n",
    "            with torch.no_grad():\n",
    "                numerical = PINN_model(x_validation.to(device)).cpu()\n",
    "                errL2 = (torch.sum(torch.abs(exact-numerical)**2))**0.5 / (torch.sum(torch.abs(exact)**2))**0.5\n",
    "                errMax = torch.max(torch.abs(exact-numerical))\n",
    "\n",
    "            print(f'Epoch [{epoch}/{num_epochs}], '\n",
    "                f'Total Loss: {total_loss.item():.6f}, '\n",
    "                f'PDE Loss: {pde_loss.item():.6f}, '\n",
    "                f'BC Loss: {bc_loss.item():.6f}\\n\\t\\t'\n",
    "                f'RelativeL2: {errL2},\\t\\t'\n",
    "                f'Max: {errMax}\\n' )\n",
    "            \n",
    "        torch.cuda.empty_cache()"
   ]
  },
  {
   "cell_type": "code",
   "execution_count": 4,
   "metadata": {},
   "outputs": [
    {
     "name": "stderr",
     "output_type": "stream",
     "text": [
      "  0%|          | 0/50001 [00:00<?, ?it/s]/envs/common/lib/python3.12/site-packages/torch/autograd/graph.py:824: UserWarning: Attempting to run cuBLAS, but there was no current CUDA context! Attempting to set the primary context... (Triggered internally at /pytorch/aten/src/ATen/cuda/CublasHandlePool.cpp:181.)\n",
      "  return Variable._execution_engine.run_backward(  # Calls into the C++ engine to run the backward pass\n",
      "  0%|          | 35/50001 [00:00<04:20, 191.51it/s]"
     ]
    },
    {
     "name": "stdout",
     "output_type": "stream",
     "text": [
      "Epoch [0/50001], Total Loss: 0.710281, PDE Loss: 0.232150, BC Loss: 0.478132\n",
      "\t\tRelativeL2: 28.9654598236084,\t\tMax: 2.5950043201446533\n",
      "\n"
     ]
    },
    {
     "name": "stderr",
     "output_type": "stream",
     "text": [
      " 20%|██        | 10046/50001 [00:35<02:23, 278.37it/s]"
     ]
    },
    {
     "name": "stdout",
     "output_type": "stream",
     "text": [
      "Epoch [10000/50001], Total Loss: 0.633602, PDE Loss: 0.183118, BC Loss: 0.450484\n",
      "\t\tRelativeL2: 27.14971923828125,\t\tMax: 2.374401569366455\n",
      "\n"
     ]
    },
    {
     "name": "stderr",
     "output_type": "stream",
     "text": [
      " 40%|████      | 20048/50001 [01:10<01:47, 277.74it/s]"
     ]
    },
    {
     "name": "stdout",
     "output_type": "stream",
     "text": [
      "Epoch [20000/50001], Total Loss: 0.633597, PDE Loss: 0.183137, BC Loss: 0.450460\n",
      "\t\tRelativeL2: 27.14995765686035,\t\tMax: 2.3744027614593506\n",
      "\n"
     ]
    },
    {
     "name": "stderr",
     "output_type": "stream",
     "text": [
      " 60%|██████    | 30052/50001 [01:45<01:10, 284.55it/s]"
     ]
    },
    {
     "name": "stdout",
     "output_type": "stream",
     "text": [
      "Epoch [30000/50001], Total Loss: 0.633593, PDE Loss: 0.183100, BC Loss: 0.450494\n",
      "\t\tRelativeL2: 27.150291442871094,\t\tMax: 2.3744051456451416\n",
      "\n"
     ]
    },
    {
     "name": "stderr",
     "output_type": "stream",
     "text": [
      " 80%|████████  | 40025/50001 [02:20<00:45, 219.12it/s]"
     ]
    },
    {
     "name": "stdout",
     "output_type": "stream",
     "text": [
      "Epoch [40000/50001], Total Loss: 0.633588, PDE Loss: 0.183554, BC Loss: 0.450034\n",
      "\t\tRelativeL2: 27.151391983032227,\t\tMax: 2.3744075298309326\n",
      "\n"
     ]
    },
    {
     "name": "stderr",
     "output_type": "stream",
     "text": [
      "100%|██████████| 50001/50001 [02:55<00:00, 285.14it/s]"
     ]
    },
    {
     "name": "stdout",
     "output_type": "stream",
     "text": [
      "Epoch [50000/50001], Total Loss: 0.633568, PDE Loss: 0.183179, BC Loss: 0.450388\n",
      "\t\tRelativeL2: 27.15081024169922,\t\tMax: 2.3744583129882812\n",
      "\n"
     ]
    },
    {
     "name": "stderr",
     "output_type": "stream",
     "text": [
      "\n"
     ]
    }
   ],
   "source": [
    "num_epochs = 5*10**4+1\n",
    "num_prints = 5\n",
    "train_wpinn(num_epochs, num_prints)"
   ]
  },
  {
   "cell_type": "code",
   "execution_count": null,
   "metadata": {},
   "outputs": [],
   "source": [
    "# Save NTK eigen values\n",
    "file_name = \"PINN_ntk.csv\" \n",
    "np.savetxt(file_name, NTK_PINN, delimiter=\",\")"
   ]
  },
  {
   "cell_type": "code",
   "execution_count": 5,
   "metadata": {},
   "outputs": [
    {
     "name": "stdout",
     "output_type": "stream",
     "text": [
      "RelativeL2: 85.73634338378906,\t\t Max: 2.3746259212493896\n",
      "\n"
     ]
    },
    {
     "data": {
      "image/png": "[encoded data removed]",
      "text/plain": [
       "<Figure size 500x300 with 1 Axes>"
      ]
     },
     "metadata": {},
     "output_type": "display_data"
    }
   ],
   "source": [
    "# Testing and Plotting\n",
    "u_pred = PINN_model(x_test.to(device)).cpu().detach().numpy()\n",
    "errL2 = (np.sum(np.abs(u_exact-u_pred)**2))**0.5 / (np.sum(np.abs(u_exact)**2))**0.5\n",
    "errMax = np.max(np.abs(u_exact-u_pred))\n",
    "\n",
    "print(f'RelativeL2: {errL2},\\t\\t', f'Max: {errMax}\\n' )\n",
    "\n",
    "\n",
    "fig = plt.figure(figsize=(5,3))\n",
    "plt.plot(x_test, u_exact, label='Exact')\n",
    "plt.plot(x_test, u_pred, '--', label='Predicted')\n",
    "plt.legend()\n",
    "plt.show()\n"
   ]
  },
  {
   "cell_type": "code",
   "execution_count": null,
   "metadata": {},
   "outputs": [],
   "source": []
  }
 ],
 "metadata": {
  "kernelspec": {
   "display_name": "common",
   "language": "python",
   "name": "python3"
  },
  "language_info": {
   "codemirror_mode": {
    "name": "ipython",
    "version": 3
   },
   "file_extension": ".py",
   "mimetype": "text/x-python",
   "name": "python",
   "nbconvert_exporter": "python",
   "pygments_lexer": "ipython3",
   "version": "3.12.3"
  }
 },
 "nbformat": 4,
 "nbformat_minor": 4
}
