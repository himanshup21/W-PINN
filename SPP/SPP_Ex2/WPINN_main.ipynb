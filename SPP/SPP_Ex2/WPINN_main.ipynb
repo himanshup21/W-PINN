{
 "cells": [
  {
   "cell_type": "code",
   "execution_count": 1,
   "metadata": {
    "execution": {
     "iopub.execute_input": "2025-01-31T06:39:34.744285Z",
     "iopub.status.busy": "2025-01-31T06:39:34.743426Z",
     "iopub.status.idle": "2025-01-31T06:40:39.918592Z",
     "shell.execute_reply": "2025-01-31T06:40:39.917338Z",
     "shell.execute_reply.started": "2025-01-31T06:39:34.744232Z"
    }
   },
   "outputs": [
    {
     "name": "stderr",
     "output_type": "stream",
     "text": [
      "/envs/common/lib/python3.12/site-packages/scipy/stats/_qmc.py:993: UserWarning: The balance properties of Sobol' points require n to be a power of 2.\n",
      "  sample = self._random(n, workers=workers)\n"
     ]
    },
    {
     "name": "stdout",
     "output_type": "stream",
     "text": [
      "family_len:  3079\n"
     ]
    }
   ],
   "source": [
    "from config import*\n",
    "from SPP_problem import*\n",
    "from Wfamily import*\n",
    "from Model import*"
   ]
  },
  {
   "cell_type": "code",
   "execution_count": 2,
   "metadata": {},
   "outputs": [],
   "source": [
    "WPINN_model = WPINN(input_size = n_collocation, \n",
    "                    num_hidden_layers = 6, \n",
    "                    hidden_neurons = 100, \n",
    "                    family_size = len_family).to(device)\n",
    "\n",
    "optimizer = optim.Adam(WPINN_model.parameters(), lr=1e-5)"
   ]
  },
  {
   "cell_type": "code",
   "execution_count": 3,
   "metadata": {},
   "outputs": [],
   "source": [
    "t_interior = t_collocation.clone()\n",
    "\n",
    "def wpinn_loss():   \n",
    "\n",
    "    global c,b\n",
    "    c, b = WPINN_model(t_interior)\n",
    "\n",
    "    u  = torch.mv(Wfamily, c) + b\n",
    "    u_t = torch.mv(DWt, c)\n",
    "    u_tt = torch.mv(DW2t, c)\n",
    "\n",
    "    u_pred_ic = torch.mv(Wic, c) + b\n",
    "    Du_pred_ic = torch.mv(DWic, c)\n",
    "    \n",
    "    pde_loss = torch.mean((e*u_tt + (3+t_collocation)*u_t + u**2 - torch.sin(u) - rhs) ** 2)   \n",
    "\n",
    "    ic_loss = torch.mean((u_pred_ic - u_ic) ** 2) + \\\n",
    "              torch.mean((Du_pred_ic - Du_ic) ** 2)\n",
    "    \n",
    "    total_loss = pde_loss + ic_loss\n",
    "    \n",
    "    return total_loss, pde_loss, ic_loss\n",
    "\n",
    "def train_wpinn(num_epochs, num_prints):\n",
    "\n",
    "    for epoch in tqdm(range(num_epochs)):\n",
    "        \n",
    "        optimizer.zero_grad()\n",
    "        total_loss, pde_loss, ic_loss = wpinn_loss()\n",
    "        \n",
    "        total_loss.backward()\n",
    "        optimizer.step()\n",
    "\n",
    "    \n",
    "        if epoch % ((num_epochs-1)/num_prints) == 0:  # Print every num_prints epochs\n",
    "            \n",
    "            with torch.no_grad():\n",
    "                numerical = torch.mv(Wval, c.cpu()) + b.cpu()\n",
    "                errL2 = (torch.sum(torch.abs(exact-numerical)**2))**0.5 / (torch.sum(torch.abs(exact)**2))**0.5\n",
    "                errMax = torch.max(torch.abs(exact-numerical))\n",
    "\n",
    "            print(f'Epoch [{epoch}/{num_epochs}], '\n",
    "                f'Total Loss: {total_loss.item():.6f}, '\n",
    "                f'PDE Loss: {pde_loss.item():.6f}, '\n",
    "                f'IC Loss: {ic_loss.item():.6f}\\n\\t\\t'\n",
    "                f'RelativeL2: {errL2},\\t\\t'\n",
    "                f'Max: {errMax}\\n' )\n",
    "            \n",
    "        torch.cuda.empty_cache()"
   ]
  },
  {
   "cell_type": "code",
   "execution_count": 4,
   "metadata": {},
   "outputs": [
    {
     "name": "stderr",
     "output_type": "stream",
     "text": [
      "  0%|          | 92/100001 [00:00<03:23, 490.94it/s]"
     ]
    },
    {
     "name": "stdout",
     "output_type": "stream",
     "text": [
      "Epoch [0/100001], Total Loss: 4858252.500000, PDE Loss: 4856701.000000, IC Loss: 1551.343140\n",
      "\t\tRelativeL2: 0.7570815086364746,\t\tMax: 2.5678768157958984\n",
      "\n"
     ]
    },
    {
     "name": "stderr",
     "output_type": "stream",
     "text": [
      " 20%|██        | 20092/100001 [00:30<02:01, 655.51it/s]"
     ]
    },
    {
     "name": "stdout",
     "output_type": "stream",
     "text": [
      "Epoch [20000/100001], Total Loss: 24.419327, PDE Loss: 22.410624, IC Loss: 2.008703\n",
      "\t\tRelativeL2: 0.4498259127140045,\t\tMax: 1.4195576906204224\n",
      "\n"
     ]
    },
    {
     "name": "stderr",
     "output_type": "stream",
     "text": [
      " 40%|████      | 40090/100001 [01:01<01:32, 650.33it/s]"
     ]
    },
    {
     "name": "stdout",
     "output_type": "stream",
     "text": [
      "Epoch [40000/100001], Total Loss: 0.658553, PDE Loss: 0.658542, IC Loss: 0.000011\n",
      "\t\tRelativeL2: 0.00046082347398623824,\t\tMax: 0.00188446044921875\n",
      "\n"
     ]
    },
    {
     "name": "stderr",
     "output_type": "stream",
     "text": [
      " 60%|██████    | 60075/100001 [01:31<01:01, 651.09it/s]"
     ]
    },
    {
     "name": "stdout",
     "output_type": "stream",
     "text": [
      "Epoch [60000/100001], Total Loss: 1.338876, PDE Loss: 1.338763, IC Loss: 0.000113\n",
      "\t\tRelativeL2: 0.00019752939988393337,\t\tMax: 0.0008780956268310547\n",
      "\n"
     ]
    },
    {
     "name": "stderr",
     "output_type": "stream",
     "text": [
      " 80%|████████  | 80095/100001 [02:02<00:30, 648.50it/s]"
     ]
    },
    {
     "name": "stdout",
     "output_type": "stream",
     "text": [
      "Epoch [80000/100001], Total Loss: 0.288708, PDE Loss: 0.288682, IC Loss: 0.000027\n",
      "\t\tRelativeL2: 0.0006278430810198188,\t\tMax: 0.0018711090087890625\n",
      "\n"
     ]
    },
    {
     "name": "stderr",
     "output_type": "stream",
     "text": [
      " 82%|████████▏ | 81933/100001 [02:05<00:27, 652.51it/s]\n"
     ]
    },
    {
     "ename": "KeyboardInterrupt",
     "evalue": "",
     "output_type": "error",
     "traceback": [
      "\u001b[31m---------------------------------------------------------------------------\u001b[39m",
      "\u001b[31mKeyboardInterrupt\u001b[39m                         Traceback (most recent call last)",
      "\u001b[36mCell\u001b[39m\u001b[36m \u001b[39m\u001b[32mIn[4]\u001b[39m\u001b[32m, line 3\u001b[39m\n\u001b[32m      1\u001b[39m num_epochs = \u001b[32m10\u001b[39m**\u001b[32m5\u001b[39m+\u001b[32m1\u001b[39m \n\u001b[32m      2\u001b[39m num_prints = \u001b[32m5\u001b[39m\n\u001b[32m----> \u001b[39m\u001b[32m3\u001b[39m \u001b[43mtrain_wpinn\u001b[49m\u001b[43m(\u001b[49m\u001b[43mnum_epochs\u001b[49m\u001b[43m,\u001b[49m\u001b[43m \u001b[49m\u001b[43mnum_prints\u001b[49m\u001b[43m)\u001b[49m\n",
      "\u001b[36mCell\u001b[39m\u001b[36m \u001b[39m\u001b[32mIn[3]\u001b[39m\u001b[32m, line 31\u001b[39m, in \u001b[36mtrain_wpinn\u001b[39m\u001b[34m(num_epochs, num_prints)\u001b[39m\n\u001b[32m     28\u001b[39m optimizer.zero_grad()\n\u001b[32m     29\u001b[39m total_loss, pde_loss, ic_loss = wpinn_loss()\n\u001b[32m---> \u001b[39m\u001b[32m31\u001b[39m \u001b[43mtotal_loss\u001b[49m\u001b[43m.\u001b[49m\u001b[43mbackward\u001b[49m\u001b[43m(\u001b[49m\u001b[43m)\u001b[49m\n\u001b[32m     32\u001b[39m optimizer.step()\n\u001b[32m     35\u001b[39m \u001b[38;5;28;01mif\u001b[39;00m epoch % ((num_epochs-\u001b[32m1\u001b[39m)/num_prints) == \u001b[32m0\u001b[39m:  \u001b[38;5;66;03m# Print every num_prints epochs\u001b[39;00m\n",
      "\u001b[36mFile \u001b[39m\u001b[32m/envs/common/lib/python3.12/site-packages/torch/_tensor.py:648\u001b[39m, in \u001b[36mTensor.backward\u001b[39m\u001b[34m(self, gradient, retain_graph, create_graph, inputs)\u001b[39m\n\u001b[32m    638\u001b[39m \u001b[38;5;28;01mif\u001b[39;00m has_torch_function_unary(\u001b[38;5;28mself\u001b[39m):\n\u001b[32m    639\u001b[39m     \u001b[38;5;28;01mreturn\u001b[39;00m handle_torch_function(\n\u001b[32m    640\u001b[39m         Tensor.backward,\n\u001b[32m    641\u001b[39m         (\u001b[38;5;28mself\u001b[39m,),\n\u001b[32m   (...)\u001b[39m\u001b[32m    646\u001b[39m         inputs=inputs,\n\u001b[32m    647\u001b[39m     )\n\u001b[32m--> \u001b[39m\u001b[32m648\u001b[39m \u001b[43mtorch\u001b[49m\u001b[43m.\u001b[49m\u001b[43mautograd\u001b[49m\u001b[43m.\u001b[49m\u001b[43mbackward\u001b[49m\u001b[43m(\u001b[49m\n\u001b[32m    649\u001b[39m \u001b[43m    \u001b[49m\u001b[38;5;28;43mself\u001b[39;49m\u001b[43m,\u001b[49m\u001b[43m \u001b[49m\u001b[43mgradient\u001b[49m\u001b[43m,\u001b[49m\u001b[43m \u001b[49m\u001b[43mretain_graph\u001b[49m\u001b[43m,\u001b[49m\u001b[43m \u001b[49m\u001b[43mcreate_graph\u001b[49m\u001b[43m,\u001b[49m\u001b[43m \u001b[49m\u001b[43minputs\u001b[49m\u001b[43m=\u001b[49m\u001b[43minputs\u001b[49m\n\u001b[32m    650\u001b[39m \u001b[43m\u001b[49m\u001b[43m)\u001b[49m\n",
      "\u001b[36mFile \u001b[39m\u001b[32m/envs/common/lib/python3.12/site-packages/torch/autograd/__init__.py:353\u001b[39m, in \u001b[36mbackward\u001b[39m\u001b[34m(tensors, grad_tensors, retain_graph, create_graph, grad_variables, inputs)\u001b[39m\n\u001b[32m    348\u001b[39m     retain_graph = create_graph\n\u001b[32m    350\u001b[39m \u001b[38;5;66;03m# The reason we repeat the same comment below is that\u001b[39;00m\n\u001b[32m    351\u001b[39m \u001b[38;5;66;03m# some Python versions print out the first line of a multi-line function\u001b[39;00m\n\u001b[32m    352\u001b[39m \u001b[38;5;66;03m# calls in the traceback and some print out the last line\u001b[39;00m\n\u001b[32m--> \u001b[39m\u001b[32m353\u001b[39m \u001b[43m_engine_run_backward\u001b[49m\u001b[43m(\u001b[49m\n\u001b[32m    354\u001b[39m \u001b[43m    \u001b[49m\u001b[43mtensors\u001b[49m\u001b[43m,\u001b[49m\n\u001b[32m    355\u001b[39m \u001b[43m    \u001b[49m\u001b[43mgrad_tensors_\u001b[49m\u001b[43m,\u001b[49m\n\u001b[32m    356\u001b[39m \u001b[43m    \u001b[49m\u001b[43mretain_graph\u001b[49m\u001b[43m,\u001b[49m\n\u001b[32m    357\u001b[39m \u001b[43m    \u001b[49m\u001b[43mcreate_graph\u001b[49m\u001b[43m,\u001b[49m\n\u001b[32m    358\u001b[39m \u001b[43m    \u001b[49m\u001b[43minputs\u001b[49m\u001b[43m,\u001b[49m\n\u001b[32m    359\u001b[39m \u001b[43m    \u001b[49m\u001b[43mallow_unreachable\u001b[49m\u001b[43m=\u001b[49m\u001b[38;5;28;43;01mTrue\u001b[39;49;00m\u001b[43m,\u001b[49m\n\u001b[32m    360\u001b[39m \u001b[43m    \u001b[49m\u001b[43maccumulate_grad\u001b[49m\u001b[43m=\u001b[49m\u001b[38;5;28;43;01mTrue\u001b[39;49;00m\u001b[43m,\u001b[49m\n\u001b[32m    361\u001b[39m \u001b[43m\u001b[49m\u001b[43m)\u001b[49m\n",
      "\u001b[36mFile \u001b[39m\u001b[32m/envs/common/lib/python3.12/site-packages/torch/autograd/graph.py:824\u001b[39m, in \u001b[36m_engine_run_backward\u001b[39m\u001b[34m(t_outputs, *args, **kwargs)\u001b[39m\n\u001b[32m    822\u001b[39m     unregister_hooks = _register_logging_hooks_on_whole_graph(t_outputs)\n\u001b[32m    823\u001b[39m \u001b[38;5;28;01mtry\u001b[39;00m:\n\u001b[32m--> \u001b[39m\u001b[32m824\u001b[39m     \u001b[38;5;28;01mreturn\u001b[39;00m \u001b[43mVariable\u001b[49m\u001b[43m.\u001b[49m\u001b[43m_execution_engine\u001b[49m\u001b[43m.\u001b[49m\u001b[43mrun_backward\u001b[49m\u001b[43m(\u001b[49m\u001b[43m  \u001b[49m\u001b[38;5;66;43;03m# Calls into the C++ engine to run the backward pass\u001b[39;49;00m\n\u001b[32m    825\u001b[39m \u001b[43m        \u001b[49m\u001b[43mt_outputs\u001b[49m\u001b[43m,\u001b[49m\u001b[43m \u001b[49m\u001b[43m*\u001b[49m\u001b[43margs\u001b[49m\u001b[43m,\u001b[49m\u001b[43m \u001b[49m\u001b[43m*\u001b[49m\u001b[43m*\u001b[49m\u001b[43mkwargs\u001b[49m\n\u001b[32m    826\u001b[39m \u001b[43m    \u001b[49m\u001b[43m)\u001b[49m  \u001b[38;5;66;03m# Calls into the C++ engine to run the backward pass\u001b[39;00m\n\u001b[32m    827\u001b[39m \u001b[38;5;28;01mfinally\u001b[39;00m:\n\u001b[32m    828\u001b[39m     \u001b[38;5;28;01mif\u001b[39;00m attach_logging_hooks:\n",
      "\u001b[31mKeyboardInterrupt\u001b[39m: "
     ]
    }
   ],
   "source": [
    "num_epochs = 10**5+1 \n",
    "num_prints = 5\n",
    "train_wpinn(num_epochs, num_prints)"
   ]
  },
  {
   "cell_type": "code",
   "execution_count": 5,
   "metadata": {},
   "outputs": [
    {
     "name": "stdout",
     "output_type": "stream",
     "text": [
      "RelativeL2: 5.8127217926084995e-05,\t\t Max: 0.0002295970916748047\n",
      "\n"
     ]
    },
    {
     "data": {
      "image/png": "[encoded data removed]",
      "text/plain": [
       "<Figure size 500x300 with 1 Axes>"
      ]
     },
     "metadata": {},
     "output_type": "display_data"
    }
   ],
   "source": [
    "# Testing and Plotting\n",
    "u_pred = (torch.mv(Wtest, c.cpu()) + b.cpu()).detach().numpy()\n",
    "errL2 = (np.sum(np.abs(u_exact-u_pred)**2))**0.5 / (np.sum(np.abs(u_exact)**2))**0.5\n",
    "errMax = np.max(np.abs(u_exact-u_pred))\n",
    "\n",
    "print(f'RelativeL2: {errL2},\\t\\t', f'Max: {errMax}\\n' )\n",
    "\n",
    "\n",
    "fig = plt.figure(figsize=(5,3))\n",
    "plt.plot(t_test, u_exact, label='Exact')\n",
    "plt.plot(t_test, u_pred, '--', label='Predicted')\n",
    "plt.legend()\n",
    "plt.show()\n"
   ]
  },
  {
   "cell_type": "code",
   "execution_count": null,
   "metadata": {},
   "outputs": [],
   "source": []
  }
 ],
 "metadata": {
  "kernelspec": {
   "display_name": "common",
   "language": "python",
   "name": "python3"
  },
  "language_info": {
   "codemirror_mode": {
    "name": "ipython",
    "version": 3
   },
   "file_extension": ".py",
   "mimetype": "text/x-python",
   "name": "python",
   "nbconvert_exporter": "python",
   "pygments_lexer": "ipython3",
   "version": "3.12.3"
  }
 },
 "nbformat": 4,
 "nbformat_minor": 4
}
